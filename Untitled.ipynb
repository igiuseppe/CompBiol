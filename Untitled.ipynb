{
 "cells": [
  {
   "cell_type": "code",
   "execution_count": 1,
   "id": "9bba43d4",
   "metadata": {},
   "outputs": [],
   "source": [
    "import matplotlib.pyplot as plt"
   ]
  },
  {
   "cell_type": "code",
   "execution_count": 2,
   "id": "7e46b2bc",
   "metadata": {},
   "outputs": [],
   "source": [
    "import Bio"
   ]
  },
  {
   "cell_type": "code",
   "execution_count": 3,
   "id": "86a5c42a",
   "metadata": {},
   "outputs": [
    {
     "name": "stdout",
     "output_type": "stream",
     "text": [
      "0\n",
      "1993166\n"
     ]
    }
   ],
   "source": [
    "from Bio import SeqIO\n",
    "\n",
    "records = list(SeqIO.parse(\"salmonella-enterica-variant.reads.fna\", \"fasta\"))\n",
    "print(records[0].id)  # first record\n",
    "print(records[-1].id) "
   ]
  },
  {
   "cell_type": "code",
   "execution_count": 4,
   "id": "b41a7025",
   "metadata": {},
   "outputs": [],
   "source": [
    "def count_kmers(seq, k,data):\n",
    "    size = len(seq)\n",
    "    for i in range(size - k + 1):\n",
    "        kmer = seq[i: i + k]\n",
    "        try:\n",
    "            data[kmer] += 1\n",
    "        except KeyError:\n",
    "            data[kmer] = 1\n",
    "    return data"
   ]
  },
  {
   "cell_type": "code",
   "execution_count": 5,
   "id": "12d08b4d",
   "metadata": {},
   "outputs": [],
   "source": [
    "def count_all(gen,k):\n",
    "    data={}\n",
    "    for i in range(len(gen)):\n",
    "        count_kmers(gen[i].seq,k,data)\n",
    "    return data"
   ]
  },
  {
   "cell_type": "code",
   "execution_count": 6,
   "id": "839fb2ac",
   "metadata": {},
   "outputs": [],
   "source": [
    "rec=records"
   ]
  },
  {
   "cell_type": "code",
   "execution_count": 7,
   "id": "d6dbcccf",
   "metadata": {},
   "outputs": [
    {
     "data": {
      "text/plain": [
       "1993167"
      ]
     },
     "execution_count": 7,
     "metadata": {},
     "output_type": "execute_result"
    }
   ],
   "source": [
    "len(rec)"
   ]
  },
  {
   "cell_type": "code",
   "execution_count": 11,
   "id": "b29ff184",
   "metadata": {},
   "outputs": [],
   "source": [
    "counts=count_all(rec,50)"
   ]
  },
  {
   "cell_type": "code",
   "execution_count": 10,
   "id": "a888f494",
   "metadata": {},
   "outputs": [],
   "source": [
    "def clear_dict(dic,p):\n",
    "    return {key:val for key, val in dic.items() if val > p}"
   ]
  },
  {
   "cell_type": "code",
   "execution_count": 54,
   "id": "fafb7c14",
   "metadata": {},
   "outputs": [],
   "source": [
    "cut_counts = {key:val for key, val in counts.items() if val > 3}"
   ]
  },
  {
   "cell_type": "code",
   "execution_count": 12,
   "id": "0d329f0a",
   "metadata": {},
   "outputs": [
    {
     "data": {
      "text/plain": [
       "51715952"
      ]
     },
     "execution_count": 12,
     "metadata": {},
     "output_type": "execute_result"
    }
   ],
   "source": [
    "len(counts)"
   ]
  },
  {
   "cell_type": "code",
   "execution_count": 13,
   "id": "9d027b8b",
   "metadata": {},
   "outputs": [],
   "source": [
    "values = counts.values()"
   ]
  },
  {
   "cell_type": "code",
   "execution_count": 14,
   "id": "1af299ae",
   "metadata": {},
   "outputs": [
    {
     "data": {
      "text/plain": [
       "<function matplotlib.pyplot.show(close=None, block=None)>"
      ]
     },
     "execution_count": 14,
     "metadata": {},
     "output_type": "execute_result"
    },
    {
     "data": {
      "image/png": "[encoded data removed]",
      "text/plain": [
       "<Figure size 432x288 with 1 Axes>"
      ]
     },
     "metadata": {
      "needs_background": "light"
     },
     "output_type": "display_data"
    }
   ],
   "source": [
    "binwidth=1\n",
    "plt.hist(values,bins=range(min(values), max(values) + binwidth, binwidth))\n",
    "plt.yscale('log')\n",
    "plt.show"
   ]
  },
  {
   "cell_type": "code",
   "execution_count": 15,
   "id": "2fabdd30",
   "metadata": {},
   "outputs": [],
   "source": [
    "f = open(\"record.txt\", \"w\")\n",
    "f.write(str(counts))\n",
    "f.close()"
   ]
  },
  {
   "cell_type": "code",
   "execution_count": null,
   "id": "ee8f00d6",
   "metadata": {},
   "outputs": [],
   "source": [
    "f = open(\"record.txt\", \"r\")\n",
    "f.write(str(counts))\n",
    "f.close()"
   ]
  },
  {
   "cell_type": "code",
   "execution_count": 11,
   "id": "2087d437",
   "metadata": {},
   "outputs": [],
   "source": [
    "def delete_copies(dict1,dict2):\n",
    "    lst=[]\n",
    "    for key in dict1:\n",
    "        if key in dict2.keys():\n",
    "            lst.append(key)\n",
    "    for key in lst:\n",
    "        del dict1[key]\n",
    "        del dict2[key]"
   ]
  },
  {
   "cell_type": "code",
   "execution_count": 12,
   "id": "11feb509",
   "metadata": {},
   "outputs": [],
   "source": [
    "test1=count_all(records[0:100],10)\n",
    "test2=count_all(records[100:200],10)"
   ]
  },
  {
   "cell_type": "code",
   "execution_count": 13,
   "id": "65cbb610",
   "metadata": {},
   "outputs": [],
   "source": [
    "test1=clear_dict(test1,1)"
   ]
  },
  {
   "cell_type": "code",
   "execution_count": 14,
   "id": "175686da",
   "metadata": {},
   "outputs": [
    {
     "data": {
      "text/plain": [
       "525"
      ]
     },
     "execution_count": 14,
     "metadata": {},
     "output_type": "execute_result"
    }
   ],
   "source": [
    "test2=clear_dict(test2,1)\n",
    "len(test2)"
   ]
  },
  {
   "cell_type": "code",
   "execution_count": 15,
   "id": "5ef758d0",
   "metadata": {},
   "outputs": [
    {
     "data": {
      "text/plain": [
       "548"
      ]
     },
     "execution_count": 15,
     "metadata": {},
     "output_type": "execute_result"
    }
   ],
   "source": [
    "len(test1)"
   ]
  },
  {
   "cell_type": "code",
   "execution_count": 16,
   "id": "e8d33681",
   "metadata": {},
   "outputs": [],
   "source": [
    "delete_copies(test1,test2)"
   ]
  },
  {
   "cell_type": "code",
   "execution_count": 17,
   "id": "7a2cea5a",
   "metadata": {},
   "outputs": [
    {
     "data": {
      "text/plain": [
       "521"
      ]
     },
     "execution_count": 17,
     "metadata": {},
     "output_type": "execute_result"
    }
   ],
   "source": [
    "len(test2)"
   ]
  },
  {
   "cell_type": "code",
   "execution_count": 18,
   "id": "91c331e8",
   "metadata": {},
   "outputs": [],
   "source": [
    "def concatenate(dic,k):\n",
    "    concatenated=[]\n",
    "    to_delete=set()\n",
    "    stop=False\n",
    "    for key in dic:\n",
    "        string=str(key)\n",
    "        \n",
    "        if key not in to_delete:\n",
    "            #restart=True\n",
    "            #while restart:\n",
    "            for key2 in dic:\n",
    "                    if key2!=key and key2 not in to_delete: \n",
    "                        last=string[-k+1:]\n",
    "                        first=string[0:k-1]\n",
    "                        string2=str(key2)\n",
    "                        last2=string2[-k+1:]\n",
    "                        first2=string2[0:k-1] \n",
    "                        if last == first2:\n",
    "                            string+=string2[-1]\n",
    "                            to_delete.add(key2)\n",
    "                            to_delete.add(key)\n",
    "                            #restart=True\n",
    "                            #break\n",
    "                        elif first==last2:\n",
    "                            string=string2[0]+string\n",
    "                            to_delete.add(key2)\n",
    "                            to_delete.add(key)\n",
    "                            #restart=True\n",
    "                            #break\n",
    "                        #else: restart=False\n",
    "            concatenated.append(string)\n",
    "    return concatenated"
   ]
  },
  {
   "cell_type": "code",
   "execution_count": 19,
   "id": "f8fccd1e",
   "metadata": {},
   "outputs": [],
   "source": [
    "a=concatenate(test1,10)"
   ]
  },
  {
   "cell_type": "code",
   "execution_count": 20,
   "id": "1c105549",
   "metadata": {},
   "outputs": [
    {
     "data": {
      "text/plain": [
       "347"
      ]
     },
     "execution_count": 20,
     "metadata": {},
     "output_type": "execute_result"
    }
   ],
   "source": [
    "len(a)"
   ]
  },
  {
   "cell_type": "code",
   "execution_count": 95,
   "id": "6572e2d0",
   "metadata": {},
   "outputs": [
    {
     "data": {
      "text/plain": [
       "['GTTGCGCGGCG',\n",
       " 'CGGGATCACCA',\n",
       " 'TCAATTCTGT',\n",
       " 'GGATAAGCAA',\n",
       " 'AAAACAACAA',\n",
       " 'TCAGCAACAG',\n",
       " 'GGAAAAACGG',\n",
       " 'CCACCTGGAT',\n",
       " 'CAAAAAGCGCCTC',\n",
       " 'CCAGGCGCTAA',\n",
       " 'AGTGTGCCGC',\n",
       " 'CGCTCCAGCG',\n",
       " 'GCATCTCTTT',\n",
       " 'TCTCTTTGAC',\n",
       " 'AATGCCCGGT',\n",
       " 'AATGTCAGACG',\n",
       " 'ATTGCCCGCT',\n",
       " 'GCCCGCTGCAA',\n",
       " 'GCAGGCGTTT',\n",
       " 'TCTGATGTGA',\n",
       " 'ATCCAGTACCC',\n",
       " 'GCTCCGGCGTTTT',\n",
       " 'GACGAAAGCG',\n",
       " 'CGTGACCGCG',\n",
       " 'TGCTGGACGCC',\n",
       " 'GACGCGCCAGT',\n",
       " 'GCCAGAACACC',\n",
       " 'GCTTTTTCGC',\n",
       " 'AATTACCGGC',\n",
       " 'CGGTTTGCCG',\n",
       " 'TTGCCGCTGGCG',\n",
       " 'CATCAACGCCAG',\n",
       " 'CAGCTTATTT',\n",
       " 'ATTTCAAAAT',\n",
       " 'CTGCTGCTTT',\n",
       " 'ACTTTTATAA',\n",
       " 'TTTTTAAAAC',\n",
       " 'TTTTTTTGCAG',\n",
       " 'TGTATTGGCGT',\n",
       " 'GGATAAAAAAG',\n",
       " 'GCATCGGCAG',\n",
       " 'CGGCATGCCGC',\n",
       " 'GCGTCGTTGT',\n",
       " 'CTTTTGGCGT',\n",
       " 'TCAGGAAGCG',\n",
       " 'ATTTGCCGGA',\n",
       " 'GGCGTGGCGAT',\n",
       " 'ATTTTCAAGCA',\n",
       " 'CAACGGCAGC',\n",
       " 'TGCAGCAGGCGC',\n",
       " 'TTCGTGCCGG',\n",
       " 'CGTGATTTAT',\n",
       " 'CCGAAACGCT',\n",
       " 'TAACCGCCTGC',\n",
       " 'GGCGGCTGGGT',\n",
       " 'GGCGTTTTTTT',\n",
       " 'GTTTTTTTAT',\n",
       " 'GCCGCCACCTGC',\n",
       " 'ACCTGCGCCGCC',\n",
       " 'GCGCCGCCGCCGTCGA',\n",
       " 'ACGCCAGGTC',\n",
       " 'AGCAGCGCGA',\n",
       " 'GCGCTGGCGTCG',\n",
       " 'GCGTTGCCAG',\n",
       " 'CTGTACCAGCG',\n",
       " 'GGCTATAGATG',\n",
       " 'GCGTGGCGAA',\n",
       " 'TCGATTTCATCG',\n",
       " 'GCGGCGCGGCGC',\n",
       " 'GCGGCGATCC',\n",
       " 'CATCACGCTG',\n",
       " 'GAGCATTATC',\n",
       " 'GCATTATCAA',\n",
       " 'AAATGCCATA',\n",
       " 'CGCAGAAAAAA',\n",
       " 'TGAAAAAAGTCA',\n",
       " 'AAATACCGAG',\n",
       " 'AACCCCGCAC',\n",
       " 'ATGTCCGCAT',\n",
       " 'GCTGGCCGCTG',\n",
       " 'CCCGCCTGAAG',\n",
       " 'CTGAATCTGA',\n",
       " 'ATGACAAAGT',\n",
       " 'ATTATCTGAA',\n",
       " 'AAACACTATCAGT',\n",
       " 'GGAGTCATTA',\n",
       " 'AGCCAGGCGC',\n",
       " 'GATGAGTTTG',\n",
       " 'GGCGATAGCG',\n",
       " 'ATCCTTTTTA',\n",
       " 'CTGACGCGTAT',\n",
       " 'GCATCTTTCA',\n",
       " 'TTCCATCATG',\n",
       " 'TGACTACCTG',\n",
       " 'GTCTTTCCAG',\n",
       " 'TCCCTCCTCA',\n",
       " 'CCTCAAGCGC',\n",
       " 'ATTGCGGCGG',\n",
       " 'AAGTATTTTA',\n",
       " 'ATTTTATTTC',\n",
       " 'GCCGATCCGC',\n",
       " 'TGGAAAGCGC',\n",
       " 'CGCTAACGCT',\n",
       " 'CTTATCCGGCC',\n",
       " 'TCCGGCCTAC',\n",
       " 'ACAGCATCTG',\n",
       " 'GATTTACTCTT',\n",
       " 'GGGATGCCTG',\n",
       " 'GCCGCGGACG',\n",
       " 'GTTTGGCCGC',\n",
       " 'AAGTACATCA',\n",
       " 'GGCGATGCGCG',\n",
       " 'CGGCAGCAGGC',\n",
       " 'AAGCGTCTGGA',\n",
       " 'GAACAGCATG',\n",
       " 'TGATGCTCAT',\n",
       " 'GATATTCAGCT',\n",
       " 'GAAATTCTGG',\n",
       " 'TGACTATCGCGC',\n",
       " 'GCCGGCATTGCTG',\n",
       " 'AGAACTGGCGGA',\n",
       " 'AGCGAAGGGGCG',\n",
       " 'CCGGAACGCA',\n",
       " 'ACGCATTACCGA',\n",
       " 'CGAGTTCCTG',\n",
       " 'CAAACTGGCG',\n",
       " 'GGAAAAACTGG',\n",
       " 'ACTGGAAAAA',\n",
       " 'ACGTTACTGG',\n",
       " 'CGTTATCAGC',\n",
       " 'CAGAGAACTG',\n",
       " 'CATCTGGCGG',\n",
       " 'AATACTTTGC',\n",
       " 'CCGGCGGCGA',\n",
       " 'AACTGGCGCAGG',\n",
       " 'GCAGGTGATGG',\n",
       " 'AAAGAGGCCGA',\n",
       " 'TGGCGCATCGTC',\n",
       " 'GGGGATTTCT',\n",
       " 'GCAATCTGCTG',\n",
       " 'ATTTGCGCTT',\n",
       " 'GATCGGCAATT',\n",
       " 'GATCGCGCTCA',\n",
       " 'AGCGCGTTCGG',\n",
       " 'CGCGATGACCGG',\n",
       " 'GCGGCGCTGG',\n",
       " 'TGTTCGTGCC',\n",
       " 'CGGGAGAATAC',\n",
       " 'TACCGGATATG',\n",
       " 'TGGATATCGC',\n",
       " 'GATATCGCCA',\n",
       " 'TATCGCCAGA',\n",
       " 'GGGAAGATTT',\n",
       " 'GCTTACGGCT',\n",
       " 'CTTCGCCTGCG',\n",
       " 'TTAACCCCGC',\n",
       " 'GTCATACAGG',\n",
       " 'ATTGTCTTTCC',\n",
       " 'AGAAATTCTT',\n",
       " 'TTATATCAAA',\n",
       " 'ATAAAAAATC',\n",
       " 'TATTGGCTGC',\n",
       " 'TTTACCACTC',\n",
       " 'GGTTGTCGCC',\n",
       " 'GGTCAGGCAG',\n",
       " 'TGCGGATCGG',\n",
       " 'ATTGCCGCCGGA',\n",
       " 'GCCTTCCAGCG',\n",
       " 'GCGCTACGGGAG',\n",
       " 'TTTGCGCCAG',\n",
       " 'GCGCCAGTCC',\n",
       " 'TACGCCGCTGC',\n",
       " 'ATAACCACGGT',\n",
       " 'ATTTGCCAGC',\n",
       " 'GGGTGAAGAG',\n",
       " 'GGCGAATTATG',\n",
       " 'TTCAGCTACG',\n",
       " 'TATGCCGCTAC',\n",
       " 'TGTCGCCAGCG',\n",
       " 'GCACCTGTGA',\n",
       " 'GATATGGCAA',\n",
       " 'AATAAGATTA',\n",
       " 'ATAATAGCCC',\n",
       " 'CCTGATGCGC',\n",
       " 'AAACGCGCCA',\n",
       " 'CGCCAAAACC',\n",
       " 'GCGCCGCCAG',\n",
       " 'GCGCCAGCGCC',\n",
       " 'CCAGCGCCGCC',\n",
       " 'GCGTCGCCTT',\n",
       " 'TCGCCTTTGC',\n",
       " 'GGCGAATGTC',\n",
       " 'TGACGGCGAT',\n",
       " 'GAGAATACTT',\n",
       " 'GAATGGGATGA',\n",
       " 'AGCGTTAATT',\n",
       " 'CGGATCGGCA',\n",
       " 'GACATTCGCC',\n",
       " 'AAGGCGCGAC',\n",
       " 'TTTGCGTCGCCGCCG',\n",
       " 'TTGGCGCTGG',\n",
       " 'CTGGCGTTTGC',\n",
       " 'CGCGTTGCCGC',\n",
       " 'CACGGATCGC',\n",
       " 'TTTAGCCGCC',\n",
       " 'ACCGGCGTGG',\n",
       " 'GGCGCAGCCG',\n",
       " 'CGCGAGGTGT',\n",
       " 'GTCATTTTGC',\n",
       " 'ACTTCACCGA',\n",
       " 'AAGCAGGTTA',\n",
       " 'TACTGAAAGC',\n",
       " 'CAGCATATCG',\n",
       " 'ATCCACATCA',\n",
       " 'CTTTATCCAGCT',\n",
       " 'TGCCAGAAAA',\n",
       " 'CGCCTGCCGC',\n",
       " 'CTGGCTGATT',\n",
       " 'CAGACGGACGC',\n",
       " 'ACCACCCGGATTG',\n",
       " 'CGCGGCTTCACC',\n",
       " 'CTTCACCTTC',\n",
       " 'CGTTGAACTGCCA',\n",
       " 'CGCTTCGTCT',\n",
       " 'TTTCTTTGCG',\n",
       " 'AAAGCGACGC',\n",
       " 'TGAAAGTGTG',\n",
       " 'ACACTATCGC',\n",
       " 'CGCCAGACGGA',\n",
       " 'TGTTTAATCAA',\n",
       " 'AACAAGCTGG',\n",
       " 'AAGCTGGTTG',\n",
       " 'CCGCCGCGTC',\n",
       " 'CCGCGTCATTGC',\n",
       " 'CCGGAATTGC',\n",
       " 'GGATAAAGAT',\n",
       " 'GATCTGAAAA',\n",
       " 'GCGCGACCGAT',\n",
       " 'TACCGGTATTG',\n",
       " 'AAAACCAATGGC',\n",
       " 'TTTTTTACGT',\n",
       " 'GTTTTTGTCG',\n",
       " 'TTTGGCCAGT',\n",
       " 'CGCCTGAGCG',\n",
       " 'TAATCCACGT',\n",
       " 'GACAGCCCCG',\n",
       " 'TGATTTCAGCG',\n",
       " 'AGGGCAAAGCG',\n",
       " 'CTGACGATGC',\n",
       " 'ACGCGGCGGT',\n",
       " 'TGCCGCTAAC',\n",
       " 'ATATTTCATT',\n",
       " 'CGTCAGATTGT',\n",
       " 'TCCTGCATCA',\n",
       " 'TCATGGCTTT',\n",
       " 'AGCGCGCTGCG',\n",
       " 'CGAAGCAGGCT',\n",
       " 'GGAAGTGATG',\n",
       " 'CCGCTTTAAC',\n",
       " 'CGGGCGTTAA',\n",
       " 'ACCTGCGCGG',\n",
       " 'GGTGAAAGCA',\n",
       " 'AACATCGCTG',\n",
       " 'TCGCTGAAAT',\n",
       " 'TTGCCGGGGT',\n",
       " 'TTAATAATAT',\n",
       " 'TTTTACCTGC',\n",
       " 'AATAAGTAGC',\n",
       " 'GCTTTGACGA',\n",
       " 'CGTTATTTTTTG',\n",
       " 'GATGGCGGCAG',\n",
       " 'CCCGTTAAGC',\n",
       " 'CTGGCAGGAG',\n",
       " 'CCTGCCGCGC',\n",
       " 'CGGCTGTTTTC',\n",
       " 'TGCGCTGCGTG',\n",
       " 'GCGCGGCGCA',\n",
       " 'AGGCGGTTAT',\n",
       " 'TGCTGGCGCTC',\n",
       " 'GCCGCGCCTGC',\n",
       " 'GCGCCTGCGCC',\n",
       " 'GCTCGGCATT',\n",
       " 'TTGTTATCGG',\n",
       " 'TTATCGGCGC',\n",
       " 'GGCGGCGGTGGCG',\n",
       " 'CGGTCAGTTC',\n",
       " 'TGCTGTATGC',\n",
       " 'AAAGCGGCGAAA',\n",
       " 'AACGCTGGCC',\n",
       " 'CGGGCGATGAG',\n",
       " 'GATCCGCTGG',\n",
       " 'CCGCCGGGCG',\n",
       " 'TACTGTGCGT',\n",
       " 'TTTTTCGCCG',\n",
       " 'GATGGAATTCA',\n",
       " 'GATTCATCGCG',\n",
       " 'GAATGTCAGA',\n",
       " 'CGGTTATTCA',\n",
       " 'GTGTTCCAGG',\n",
       " 'TTCGACGCCGG',\n",
       " 'CGCGTCCGGA',\n",
       " 'GCCGCAGGCAGT',\n",
       " 'CGTATCTTATCCCCG',\n",
       " 'TATCTCTCCG',\n",
       " 'GTACGGGAAGGATGAGAAGCTTCGACTAAGG',\n",
       " 'CGCAAAACGT',\n",
       " 'CGTCATTGATGGCG',\n",
       " 'CGTAAGCGTA',\n",
       " 'TCTCCTCCTC',\n",
       " 'CAGCGCCATG',\n",
       " 'GCCAGGATTT',\n",
       " 'GGGCGCAGGG',\n",
       " 'ATTCCAGCGCGCC',\n",
       " 'CGCCGGTCAG',\n",
       " 'CCGGTCAGGT',\n",
       " 'TCGTGACGCC',\n",
       " 'GACGCTAACG',\n",
       " 'GCGCGCACCG',\n",
       " 'CCGGATTACC',\n",
       " 'AAACCAGCGC',\n",
       " 'GATACCGGCG',\n",
       " 'ACGGTCAGCG',\n",
       " 'CGCTGACGAT',\n",
       " 'CGGCGAAACCGC',\n",
       " 'GCGGCGGCGGCG',\n",
       " 'GCGGCGCCGA',\n",
       " 'TGGGAAAAAA',\n",
       " 'CGCGCAGCTC',\n",
       " 'GGTGGAAGTG',\n",
       " 'TGAAGAGAAA',\n",
       " 'AGGCCGAGCG',\n",
       " 'CGTCAGGCTGA',\n",
       " 'AAGGCGCGTT',\n",
       " 'GCGGCGGCAA',\n",
       " 'ACGATGACAA',\n",
       " 'ACCAGACAATA',\n",
       " 'CGCCTGCCAG',\n",
       " 'CGGAAGAAGT',\n",
       " 'CTGAATTAAT',\n",
       " 'AAATAATCCC',\n",
       " 'ACAATCCTGGTAAT',\n",
       " 'GAATATGACG',\n",
       " 'TGTCGGCGTCA',\n",
       " 'ATTCAGCGTCTGT',\n",
       " 'CAGGCTGGAG',\n",
       " 'GATTGATGAA',\n",
       " 'GGCGCGCCTG']"
      ]
     },
     "execution_count": 95,
     "metadata": {},
     "output_type": "execute_result"
    }
   ],
   "source": [
    "a"
   ]
  },
  {
   "cell_type": "code",
   "execution_count": 87,
   "id": "7fa47f28",
   "metadata": {},
   "outputs": [],
   "source": [
    "def concatenate_kmer(dictionary):\n",
    "  print(\"\\nConcatenating k-mer:\")\n",
    "  concatenated_strings = []\n",
    "  banned = []\n",
    "  \n",
    "\n",
    "  for key in dictionary: #real_filtered:\n",
    "      string = key\n",
    "      counter = 1\n",
    "      \n",
    "      \n",
    "      if key not in banned:\n",
    "          flag = False\n",
    "          for key2 in dictionary: #real_filtered:\n",
    "              if key != key2 and (key2 not in banned) and (key not in banned):\n",
    "\n",
    "                  \n",
    "                  ### --> the tail of the 1st kmer with the head of the 2nd <-- ###\n",
    "                  key_cutted = string[counter:]\n",
    "                  key2_cutted = key2[:-1]\n",
    "                  \n",
    "                  if key_cutted == key2_cutted:\n",
    "                      flag = True\n",
    "                      banned.append(key2)\n",
    "                      counter+=1\n",
    "                      letter = key2[-1]\n",
    "                      string += key2[-1]\n",
    "                      \n",
    "                  else:                    \n",
    "                  ### --> the head of the 1st kmer with the tail of the 2nd <-- ###\n",
    "                      key_cutted = string[:-counter]\n",
    "                      key2_cutted = key2[1:]\n",
    "                      \n",
    "                      if key_cutted == key2_cutted:\n",
    "                          flag = True\n",
    "                          banned.append(key2)\n",
    "                          counter+=1\n",
    "                          letter = key2[0]\n",
    "                          string = letter + string\n",
    "          \n",
    "          if flag == True : \n",
    "              banned.append(key)        \n",
    "          concatenated_strings.append(string)\n",
    "  print(\"Concatenating k-mer finished.\")\n",
    "  return concatenated_strings"
   ]
  },
  {
   "cell_type": "code",
   "execution_count": 97,
   "id": "b3fde9e0",
   "metadata": {},
   "outputs": [
    {
     "name": "stdout",
     "output_type": "stream",
     "text": [
      "\n",
      "Concatenating k-mer:\n",
      "Concatenating k-mer finished.\n"
     ]
    }
   ],
   "source": [
    "a=concatenate_kmer(test1)"
   ]
  },
  {
   "cell_type": "code",
   "execution_count": 90,
   "id": "8ca11add",
   "metadata": {},
   "outputs": [
    {
     "data": {
      "text/plain": [
       "[Seq('GTTGCGCGGCG'),\n",
       " Seq('CGGGATCACCA'),\n",
       " Seq('TCAATTCTGT'),\n",
       " Seq('GGATAAGCAA'),\n",
       " Seq('AAAACAACAA'),\n",
       " Seq('TCAGCAACAG'),\n",
       " Seq('GGAAAAACGG'),\n",
       " Seq('CCACCTGGAT'),\n",
       " Seq('CAAAAAGCGCCTC'),\n",
       " Seq('CCAGGCGCTAA'),\n",
       " Seq('AGTGTGCCGC'),\n",
       " Seq('CGCTCCAGCG'),\n",
       " Seq('GCATCTCTTT'),\n",
       " Seq('TCTCTTTGAC'),\n",
       " Seq('AATGCCCGGT'),\n",
       " Seq('AATGTCAGACG'),\n",
       " Seq('ATTGCCCGCT'),\n",
       " Seq('GCCCGCTGCAA'),\n",
       " Seq('GCAGGCGTTT'),\n",
       " Seq('TCTGATGTGA'),\n",
       " Seq('ATCCAGTACCC'),\n",
       " Seq('GCTCCGGCGTTTT'),\n",
       " Seq('GACGAAAGCG'),\n",
       " Seq('CGTGACCGCG'),\n",
       " Seq('TGCTGGACGCC'),\n",
       " Seq('GACGCGCCAGT'),\n",
       " Seq('GCCAGAACACC'),\n",
       " Seq('GCTTTTTCGC'),\n",
       " Seq('AATTACCGGC'),\n",
       " Seq('CGGTTTGCCG'),\n",
       " Seq('TTGCCGCTGGCG'),\n",
       " Seq('CATCAACGCCAG'),\n",
       " Seq('CAGCTTATTT'),\n",
       " Seq('ATTTCAAAAT'),\n",
       " Seq('CTGCTGCTTT'),\n",
       " Seq('ACTTTTATAA'),\n",
       " Seq('TTTTTAAAAC'),\n",
       " Seq('TTTTTTTGCAG'),\n",
       " Seq('TGTATTGGCGT'),\n",
       " Seq('GGATAAAAAAG'),\n",
       " Seq('GCATCGGCAG'),\n",
       " Seq('CGGCATGCCGC'),\n",
       " Seq('GCGTCGTTGT'),\n",
       " Seq('CTTTTGGCGT'),\n",
       " Seq('TCAGGAAGCG'),\n",
       " Seq('ATTTGCCGGA'),\n",
       " Seq('GGCGTGGCGAT'),\n",
       " Seq('ATTTTCAAGCA'),\n",
       " Seq('CAACGGCAGC'),\n",
       " Seq('TGCAGCAGGCGC'),\n",
       " Seq('TTCGTGCCGG'),\n",
       " Seq('CGTGATTTAT'),\n",
       " Seq('CCGAAACGCT'),\n",
       " Seq('TAACCGCCTGC'),\n",
       " Seq('GGCGGCTGGGT'),\n",
       " Seq('GGCGTTTTTTT'),\n",
       " Seq('GTTTTTTTAT'),\n",
       " Seq('GCCGCCACCTGC'),\n",
       " Seq('ACCTGCGCCGCC'),\n",
       " Seq('GCGCCGCCGCCGTCGA'),\n",
       " Seq('ACGCCAGGTC'),\n",
       " Seq('AGCAGCGCGA'),\n",
       " Seq('GCGCTGGCGTCG'),\n",
       " Seq('GCGTTGCCAG'),\n",
       " Seq('CTGTACCAGCG'),\n",
       " Seq('GGCTATAGATG'),\n",
       " Seq('GCGTGGCGAA'),\n",
       " Seq('TCGATTTCATCG'),\n",
       " Seq('GCGGCGCGGCGC'),\n",
       " Seq('GCGGCGATCC'),\n",
       " Seq('CATCACGCTG'),\n",
       " Seq('GAGCATTATC'),\n",
       " Seq('GCATTATCAA'),\n",
       " Seq('AAATGCCATA'),\n",
       " Seq('CGCAGAAAAAA'),\n",
       " Seq('TGAAAAAAGTCA'),\n",
       " Seq('AAATACCGAG'),\n",
       " Seq('AACCCCGCAC'),\n",
       " Seq('ATGTCCGCAT'),\n",
       " Seq('GCTGGCCGCTG'),\n",
       " Seq('CCCGCCTGAAG'),\n",
       " Seq('CTGAATCTGA'),\n",
       " Seq('ATGACAAAGT'),\n",
       " Seq('ATTATCTGAA'),\n",
       " Seq('AAACACTATCAGT'),\n",
       " Seq('GGAGTCATTA'),\n",
       " Seq('AGCCAGGCGC'),\n",
       " Seq('GATGAGTTTG'),\n",
       " Seq('GGCGATAGCG'),\n",
       " Seq('ATCCTTTTTA'),\n",
       " Seq('CTGACGCGTAT'),\n",
       " Seq('GCATCTTTCA'),\n",
       " Seq('TTCCATCATG'),\n",
       " Seq('TGACTACCTG'),\n",
       " Seq('GTCTTTCCAG'),\n",
       " Seq('TCCCTCCTCA'),\n",
       " Seq('CCTCAAGCGC'),\n",
       " Seq('ATTGCGGCGG'),\n",
       " Seq('AAGTATTTTA'),\n",
       " Seq('ATTTTATTTC'),\n",
       " Seq('GCCGATCCGC'),\n",
       " Seq('TGGAAAGCGC'),\n",
       " Seq('CGCTAACGCT'),\n",
       " Seq('CTTATCCGGCC'),\n",
       " Seq('TCCGGCCTAC'),\n",
       " Seq('ACAGCATCTG'),\n",
       " Seq('GATTTACTCTT'),\n",
       " Seq('GGGATGCCTG'),\n",
       " Seq('GCCGCGGACG'),\n",
       " Seq('GTTTGGCCGC'),\n",
       " Seq('AAGTACATCA'),\n",
       " Seq('GGCGATGCGCG'),\n",
       " Seq('CGGCAGCAGGC'),\n",
       " Seq('AAGCGTCTGGA'),\n",
       " Seq('GAACAGCATG'),\n",
       " Seq('TGATGCTCAT'),\n",
       " Seq('GATATTCAGCT'),\n",
       " Seq('GAAATTCTGG'),\n",
       " Seq('TGACTATCGCGC'),\n",
       " Seq('GCCGGCATTGCTG'),\n",
       " Seq('AGAACTGGCGGA'),\n",
       " Seq('AGCGAAGGGGCG'),\n",
       " Seq('CCGGAACGCA'),\n",
       " Seq('ACGCATTACCGA'),\n",
       " Seq('CGAGTTCCTG'),\n",
       " Seq('CAAACTGGCG'),\n",
       " Seq('GGAAAAACTGG'),\n",
       " Seq('ACTGGAAAAA'),\n",
       " Seq('ACGTTACTGG'),\n",
       " Seq('CGTTATCAGC'),\n",
       " Seq('CAGAGAACTG'),\n",
       " Seq('CATCTGGCGG'),\n",
       " Seq('AATACTTTGC'),\n",
       " Seq('CCGGCGGCGA'),\n",
       " Seq('AACTGGCGCAGG'),\n",
       " Seq('GCAGGTGATGG'),\n",
       " Seq('AAAGAGGCCGA'),\n",
       " Seq('TGGCGCATCGTC'),\n",
       " Seq('GGGGATTTCT'),\n",
       " Seq('GCAATCTGCTG'),\n",
       " Seq('ATTTGCGCTT'),\n",
       " Seq('GATCGGCAATT'),\n",
       " Seq('GATCGCGCTCA'),\n",
       " Seq('AGCGCGTTCGG'),\n",
       " Seq('CGCGATGACCGG'),\n",
       " Seq('GCGGCGCTGG'),\n",
       " Seq('TGTTCGTGCC'),\n",
       " Seq('CGGGAGAATAC'),\n",
       " Seq('TACCGGATATG'),\n",
       " Seq('TGGATATCGC'),\n",
       " Seq('GATATCGCCA'),\n",
       " Seq('TATCGCCAGA'),\n",
       " Seq('GGGAAGATTT'),\n",
       " Seq('GCTTACGGCT'),\n",
       " Seq('CTTCGCCTGCG'),\n",
       " Seq('TTAACCCCGC'),\n",
       " Seq('GTCATACAGG'),\n",
       " Seq('ATTGTCTTTCC'),\n",
       " Seq('AGAAATTCTT'),\n",
       " Seq('TTATATCAAA'),\n",
       " Seq('ATAAAAAATC'),\n",
       " Seq('TATTGGCTGC'),\n",
       " Seq('TTTACCACTC'),\n",
       " Seq('GGTTGTCGCC'),\n",
       " Seq('GGTCAGGCAG'),\n",
       " Seq('TGCGGATCGG'),\n",
       " Seq('ATTGCCGCCGGA'),\n",
       " Seq('GCCTTCCAGCG'),\n",
       " Seq('GCGCTACGGGAG'),\n",
       " Seq('TTTGCGCCAG'),\n",
       " Seq('GCGCCAGTCC'),\n",
       " Seq('TACGCCGCTGC'),\n",
       " Seq('ATAACCACGGT'),\n",
       " Seq('ATTTGCCAGC'),\n",
       " Seq('GGGTGAAGAG'),\n",
       " Seq('GGCGAATTATG'),\n",
       " Seq('TTCAGCTACG'),\n",
       " Seq('TATGCCGCTAC'),\n",
       " Seq('TGTCGCCAGCG'),\n",
       " Seq('GCACCTGTGA'),\n",
       " Seq('GATATGGCAA'),\n",
       " Seq('AATAAGATTA'),\n",
       " Seq('ATAATAGCCC'),\n",
       " Seq('CCTGATGCGC'),\n",
       " Seq('AAACGCGCCA'),\n",
       " Seq('CGCCAAAACC'),\n",
       " Seq('GCGCCGCCAG'),\n",
       " Seq('GCGCCAGCGCC'),\n",
       " Seq('CCAGCGCCGCC'),\n",
       " Seq('GCGTCGCCTT'),\n",
       " Seq('TCGCCTTTGC'),\n",
       " Seq('GGCGAATGTC'),\n",
       " Seq('TGACGGCGAT'),\n",
       " Seq('GAGAATACTT'),\n",
       " Seq('GAATGGGATGA'),\n",
       " Seq('AGCGTTAATT'),\n",
       " Seq('CGGATCGGCA'),\n",
       " Seq('GACATTCGCC'),\n",
       " Seq('AAGGCGCGAC'),\n",
       " Seq('TTTGCGTCGCCGCCG'),\n",
       " Seq('TTGGCGCTGG'),\n",
       " Seq('CTGGCGTTTGC'),\n",
       " Seq('CGCGTTGCCGC'),\n",
       " Seq('CACGGATCGC'),\n",
       " Seq('TTTAGCCGCC'),\n",
       " Seq('ACCGGCGTGG'),\n",
       " Seq('GGCGCAGCCG'),\n",
       " Seq('CGCGAGGTGT'),\n",
       " Seq('GTCATTTTGC'),\n",
       " Seq('ACTTCACCGA'),\n",
       " Seq('AAGCAGGTTA'),\n",
       " Seq('TACTGAAAGC'),\n",
       " Seq('CAGCATATCG'),\n",
       " Seq('ATCCACATCA'),\n",
       " Seq('CTTTATCCAGCT'),\n",
       " Seq('TGCCAGAAAA'),\n",
       " Seq('CGCCTGCCGC'),\n",
       " Seq('CTGGCTGATT'),\n",
       " Seq('CAGACGGACGC'),\n",
       " Seq('ACCACCCGGATTG'),\n",
       " Seq('CGCGGCTTCACC'),\n",
       " Seq('CTTCACCTTC'),\n",
       " Seq('CGTTGAACTGCCA'),\n",
       " Seq('CGCTTCGTCT'),\n",
       " Seq('TTTCTTTGCG'),\n",
       " Seq('AAAGCGACGC'),\n",
       " Seq('TGAAAGTGTG'),\n",
       " Seq('ACACTATCGC'),\n",
       " Seq('CGCCAGACGGA'),\n",
       " Seq('TGTTTAATCAA'),\n",
       " Seq('AACAAGCTGG'),\n",
       " Seq('AAGCTGGTTG'),\n",
       " Seq('CCGCCGCGTC'),\n",
       " Seq('CCGCGTCATTGC'),\n",
       " Seq('CCGGAATTGC'),\n",
       " Seq('GGATAAAGAT'),\n",
       " Seq('GATCTGAAAA'),\n",
       " Seq('GCGCGACCGAT'),\n",
       " Seq('TACCGGTATTG'),\n",
       " Seq('AAAACCAATGGC'),\n",
       " Seq('TTTTTTACGT'),\n",
       " Seq('GTTTTTGTCG'),\n",
       " Seq('TTTGGCCAGT'),\n",
       " Seq('CGCCTGAGCG'),\n",
       " Seq('TAATCCACGT'),\n",
       " Seq('GACAGCCCCG'),\n",
       " Seq('TGATTTCAGCG'),\n",
       " Seq('AGGGCAAAGCG'),\n",
       " Seq('CTGACGATGC'),\n",
       " Seq('ACGCGGCGGT'),\n",
       " Seq('TGCCGCTAAC'),\n",
       " Seq('ATATTTCATT'),\n",
       " Seq('CGTCAGATTGT'),\n",
       " Seq('TCCTGCATCA'),\n",
       " Seq('TCATGGCTTT'),\n",
       " Seq('AGCGCGCTGCG'),\n",
       " Seq('CGAAGCAGGCT'),\n",
       " Seq('GGAAGTGATG'),\n",
       " Seq('CCGCTTTAAC'),\n",
       " Seq('CGGGCGTTAA'),\n",
       " Seq('ACCTGCGCGG'),\n",
       " Seq('GGTGAAAGCA'),\n",
       " Seq('AACATCGCTG'),\n",
       " Seq('TCGCTGAAAT'),\n",
       " Seq('TTGCCGGGGT'),\n",
       " Seq('TTAATAATAT'),\n",
       " Seq('TTTTACCTGC'),\n",
       " Seq('AATAAGTAGC'),\n",
       " Seq('GCTTTGACGA'),\n",
       " Seq('CGTTATTTTTTG'),\n",
       " Seq('GATGGCGGCAG'),\n",
       " Seq('CCCGTTAAGC'),\n",
       " Seq('CTGGCAGGAG'),\n",
       " Seq('CCTGCCGCGC'),\n",
       " Seq('CGGCTGTTTTC'),\n",
       " Seq('TGCGCTGCGTG'),\n",
       " Seq('GCGCGGCGCA'),\n",
       " Seq('AGGCGGTTAT'),\n",
       " Seq('TGCTGGCGCTC'),\n",
       " Seq('GCCGCGCCTGC'),\n",
       " Seq('GCGCCTGCGCC'),\n",
       " Seq('GCTCGGCATT'),\n",
       " Seq('TTGTTATCGG'),\n",
       " Seq('TTATCGGCGC'),\n",
       " Seq('GGCGGCGGTGGCG'),\n",
       " Seq('CGGTCAGTTC'),\n",
       " Seq('TGCTGTATGC'),\n",
       " Seq('AAAGCGGCGAAA'),\n",
       " Seq('AACGCTGGCC'),\n",
       " Seq('CGGGCGATGAG'),\n",
       " Seq('GATCCGCTGG'),\n",
       " Seq('CCGCCGGGCG'),\n",
       " Seq('TACTGTGCGT'),\n",
       " Seq('TTTTTCGCCG'),\n",
       " Seq('GATGGAATTCA'),\n",
       " Seq('GATTCATCGCG'),\n",
       " Seq('GAATGTCAGA'),\n",
       " Seq('CGGTTATTCA'),\n",
       " Seq('GTGTTCCAGG'),\n",
       " Seq('TTCGACGCCGG'),\n",
       " Seq('CGCGTCCGGA'),\n",
       " Seq('GCCGCAGGCAGT'),\n",
       " Seq('CGTATCTTATCCCCG'),\n",
       " Seq('TATCTCTCCG'),\n",
       " Seq('GTACGGGAAGGATGAGAAGCTTCGACTAAGG'),\n",
       " Seq('CGCAAAACGT'),\n",
       " Seq('CGTCATTGATGGCG'),\n",
       " Seq('CGTAAGCGTA'),\n",
       " Seq('TCTCCTCCTC'),\n",
       " Seq('CAGCGCCATG'),\n",
       " Seq('GCCAGGATTT'),\n",
       " Seq('GGGCGCAGGG'),\n",
       " Seq('ATTCCAGCGCGCC'),\n",
       " Seq('CGCCGGTCAG'),\n",
       " Seq('CCGGTCAGGT'),\n",
       " Seq('TCGTGACGCC'),\n",
       " Seq('GACGCTAACG'),\n",
       " Seq('GCGCGCACCG'),\n",
       " Seq('CCGGATTACC'),\n",
       " Seq('AAACCAGCGC'),\n",
       " Seq('GATACCGGCG'),\n",
       " Seq('ACGGTCAGCG'),\n",
       " Seq('CGCTGACGAT'),\n",
       " Seq('CGGCGAAACCGC'),\n",
       " Seq('GCGGCGGCGGCG'),\n",
       " Seq('GCGGCGCCGA'),\n",
       " Seq('TGGGAAAAAA'),\n",
       " Seq('CGCGCAGCTC'),\n",
       " Seq('GGTGGAAGTG'),\n",
       " Seq('TGAAGAGAAA'),\n",
       " Seq('AGGCCGAGCG'),\n",
       " Seq('CGTCAGGCTGA'),\n",
       " Seq('AAGGCGCGTT'),\n",
       " Seq('GCGGCGGCAA'),\n",
       " Seq('ACGATGACAA'),\n",
       " Seq('ACCAGACAATA'),\n",
       " Seq('CGCCTGCCAG'),\n",
       " Seq('CGGAAGAAGT'),\n",
       " Seq('CTGAATTAAT'),\n",
       " Seq('AAATAATCCC'),\n",
       " Seq('ACAATCCTGGTAAT'),\n",
       " Seq('GAATATGACG'),\n",
       " Seq('TGTCGGCGTCA'),\n",
       " Seq('ATTCAGCGTCTGT'),\n",
       " Seq('CAGGCTGGAG'),\n",
       " Seq('GATTGATGAA'),\n",
       " Seq('GGCGCGCCTG')]"
      ]
     },
     "execution_count": 90,
     "metadata": {},
     "output_type": "execute_result"
    }
   ],
   "source": [
    "a"
   ]
  },
  {
   "cell_type": "code",
   "execution_count": 22,
   "id": "531a517b",
   "metadata": {},
   "outputs": [],
   "source": [
    "import jellyfish "
   ]
  },
  {
   "cell_type": "code",
   "execution_count": 26,
   "id": "9bd5ecb0",
   "metadata": {},
   "outputs": [
    {
     "data": {
      "text/plain": [
       "2"
      ]
     },
     "execution_count": 26,
     "metadata": {},
     "output_type": "execute_result"
    }
   ],
   "source": [
    "jellyfish.levenshtein_distance('jellyfish', 'smellyfish')"
   ]
  },
  {
   "cell_type": "code",
   "execution_count": 27,
   "id": "5f86d865",
   "metadata": {},
   "outputs": [],
   "source": [
    "import numpy as np"
   ]
  },
  {
   "cell_type": "code",
   "execution_count": 37,
   "id": "1dd87fb0",
   "metadata": {},
   "outputs": [],
   "source": [
    "def calc_dist(seq1,seq2):\n",
    "    matrix=np.zeros((len(seq1),len(seq2)))\n",
    "    i=0\n",
    "    for read1 in seq1:\n",
    "        j=0\n",
    "        for read2 in seq2:\n",
    "            matrix[i,j]=jellyfish.levenshtein_distance(str(read1),str(read2))\n",
    "            j+=1\n",
    "        i+=1\n",
    "    return matrix"
   ]
  },
  {
   "cell_type": "code",
   "execution_count": 41,
   "id": "3689bed3",
   "metadata": {},
   "outputs": [],
   "source": [
    "mat=calc_dist(test1,test2)"
   ]
  },
  {
   "cell_type": "code",
   "execution_count": 60,
   "id": "36f614ae",
   "metadata": {},
   "outputs": [
    {
     "data": {
      "text/plain": [
       "(544, 521)"
      ]
     },
     "execution_count": 60,
     "metadata": {},
     "output_type": "execute_result"
    }
   ],
   "source": [
    "np.shape(mat)"
   ]
  },
  {
   "cell_type": "code",
   "execution_count": 58,
   "id": "f3206dba",
   "metadata": {},
   "outputs": [],
   "source": [
    "l = np.argmin(mat, keepdims=True)"
   ]
  },
  {
   "cell_type": "code",
   "execution_count": 59,
   "id": "e3cd1870",
   "metadata": {},
   "outputs": [
    {
     "data": {
      "text/plain": [
       "array([[27143]])"
      ]
     },
     "execution_count": 59,
     "metadata": {},
     "output_type": "execute_result"
    }
   ],
   "source": [
    "l"
   ]
  },
  {
   "cell_type": "code",
   "execution_count": 85,
   "id": "63f5ad92",
   "metadata": {},
   "outputs": [],
   "source": [
    "la = np.where(mat==2)"
   ]
  },
  {
   "cell_type": "code",
   "execution_count": 86,
   "id": "ac383aab",
   "metadata": {},
   "outputs": [
    {
     "data": {
      "text/plain": [
       "(array([  1,   3,   7,   7,   8,  11,  13,  13,  15,  17,  20,  21,  22,\n",
       "         22,  24,  25,  29,  35,  39,  39,  41,  42,  42,  43,  43,  44,\n",
       "         44,  45,  47,  52,  52,  55,  55,  56,  57,  58,  59,  60,  62,\n",
       "         62,  62,  64,  64,  67,  68,  68,  69,  69,  69,  69,  69,  71,\n",
       "         71,  72,  74,  75,  75,  75,  75,  76,  76,  77,  79,  80,  80,\n",
       "         80,  81,  81,  81,  82,  83,  85,  85,  85,  85,  86,  86,  86,\n",
       "         86,  86,  86,  87,  87,  87,  87,  88,  88,  88,  88,  88,  89,\n",
       "         89,  90,  91,  92,  92,  93,  93,  93,  93,  93,  93,  93,  93,\n",
       "         94,  95,  97,  98,  98,  99, 101, 102, 102, 106, 106, 106, 106,\n",
       "        107, 107, 107, 108, 108, 111, 113, 113, 114, 114, 118, 118, 120,\n",
       "        120, 121, 122, 122, 123, 123, 131, 132, 133, 138, 138, 140, 141,\n",
       "        144, 147, 150, 150, 154, 154, 157, 157, 157, 157, 157, 157, 158,\n",
       "        158, 159, 160, 161, 161, 164, 166, 167, 176, 179, 180, 185, 187,\n",
       "        189, 190, 190, 193, 193, 197, 197, 197, 198, 198, 198, 198, 198,\n",
       "        198, 199, 200, 200, 203, 210, 210, 211, 214, 217, 217, 217, 217,\n",
       "        217, 218, 220, 220, 223, 223, 224, 228, 229, 229, 230, 230, 235,\n",
       "        236, 242, 242, 242, 243, 245, 246, 246, 246, 250, 250, 250, 251,\n",
       "        251, 251, 252, 252, 252, 253, 253, 253, 253, 253, 253, 253, 256,\n",
       "        257, 260, 265, 265, 265, 266, 266, 266, 269, 271, 271, 273, 273,\n",
       "        274, 274, 274, 275, 275, 275, 275, 275, 275, 276, 276, 278, 278,\n",
       "        280, 280, 286, 287, 287, 287, 287, 287, 290, 293, 294, 294, 295,\n",
       "        296, 296, 296, 297, 297, 297, 297, 297, 297, 299, 308, 309, 314,\n",
       "        316, 316, 316, 316, 316, 316, 319, 325, 328, 329, 330, 331, 334,\n",
       "        334, 334, 337, 340, 340, 340, 340, 340, 341, 343, 344, 347, 350,\n",
       "        350, 351, 353, 353, 353, 358, 359, 361, 362, 364, 364, 368, 368,\n",
       "        369, 369, 369, 369, 370, 373, 375, 382, 386, 386, 387, 388, 388,\n",
       "        388, 388, 389, 389, 391, 392, 392, 392, 393, 395, 395, 396, 396,\n",
       "        398, 398, 399, 400, 400, 400, 402, 403, 403, 403, 404, 404, 405,\n",
       "        407, 407, 409, 409, 410, 410, 410, 411, 412, 412, 412, 413, 413,\n",
       "        413, 414, 418, 419, 420, 420, 420, 422, 424, 424, 425, 425, 427,\n",
       "        427, 427, 427, 429, 429, 429, 430, 433, 436, 439, 441, 442, 448,\n",
       "        455, 464, 471, 472, 473, 473, 475, 475, 476, 478, 479, 482, 482,\n",
       "        482, 482, 482, 482, 483, 483, 484, 484, 484, 484, 486, 486, 487,\n",
       "        488, 490, 490, 490, 491, 491, 495, 498, 500, 500, 501, 502, 503,\n",
       "        504, 505, 505, 505, 505, 505, 505, 505, 506, 506, 506, 506, 506,\n",
       "        507, 507, 507, 507, 507, 507, 509, 509, 509, 512, 516, 516, 519,\n",
       "        519, 519, 523, 523, 529, 530, 530, 530, 531, 533, 536, 541]),\n",
       " array([134, 452,  56, 427, 105,  43, 203, 297, 165, 311, 341, 378, 299,\n",
       "        416, 337, 461, 135,   3, 306, 307, 412,   4,  98,  34, 486, 369,\n",
       "        453, 408, 439,  12, 308,  20, 115,  77, 228, 414,  63,  75,  50,\n",
       "        116, 447,  58, 319, 344, 134, 169,  28, 128, 134, 135, 228, 240,\n",
       "        407, 369, 457,  44, 128, 164, 166,  44, 128, 199, 429, 266, 349,\n",
       "        430, 183, 350, 431, 208, 178, 171, 261, 262, 457, 178, 208, 261,\n",
       "        262, 476, 477, 159, 325, 476, 478, 171, 178, 261, 325, 393, 261,\n",
       "        262, 178, 362, 364, 396,  28,  34, 228, 353, 400, 485, 486, 487,\n",
       "         29,  89, 194, 195, 311, 461, 205, 129, 375, 164, 223, 317, 477,\n",
       "        261, 318, 485, 210, 212, 100,  20,  49,  20, 115, 454, 492,  58,\n",
       "        440, 441,  18, 413, 414, 430, 205, 291, 155, 193, 308, 163, 167,\n",
       "        486, 276, 468, 500,  28, 145,  39,  88, 119, 255, 353, 487, 107,\n",
       "        431, 108, 469, 121, 227, 112, 218, 475, 154, 316, 132, 470, 218,\n",
       "         73, 239, 271, 228, 482, 127, 154, 280,  94, 130, 155, 165, 196,\n",
       "        450, 504, 165, 505, 156, 148, 351, 150, 111, 120, 145, 164, 165,\n",
       "        317, 451, 137, 422, 110, 475, 370, 305, 305, 311, 237, 334, 206,\n",
       "        459,   4, 299, 373, 259, 194,  10, 194, 285,   4,  97, 310, 210,\n",
       "        312, 363, 426, 442, 510,  37, 178, 377, 417, 441, 457, 485, 299,\n",
       "         47,  56, 310, 311, 312, 188, 311, 429, 499,  39, 163, 225, 453,\n",
       "          4, 260, 266, 160, 171, 175, 198, 363, 431,  63, 178,  37, 392,\n",
       "        216, 428,  59,  29,  63, 282, 396, 482, 237, 178, 261, 312, 312,\n",
       "        165, 167, 168,  44, 128, 135, 186, 187, 353, 204, 117, 462, 416,\n",
       "         63, 171, 178, 261, 325, 431, 173, 288, 335, 393,  51, 173, 160,\n",
       "        325, 343, 246,  29, 159, 178, 262, 476, 386, 265, 139,  14,  12,\n",
       "         51, 289,  38, 205, 294, 446,  47, 186,  14, 415, 499, 446, 520,\n",
       "         89, 128, 485, 486,  57, 347, 455, 236,  76, 174,  76,  42, 146,\n",
       "        440, 443, 147, 401, 506, 178, 262, 476, 407,  44, 186, 353, 487,\n",
       "        187, 479, 519,  41, 127, 375, 145, 178, 361, 413, 262, 486, 386,\n",
       "        254, 387, 237, 276,  42, 164, 187, 401, 223, 278, 432, 128, 205,\n",
       "        400, 397, 190, 129, 111, 220, 282,  94,  62, 218, 353, 487, 186,\n",
       "        223, 262, 486,  12,  51, 425, 103,  67, 300, 368, 430,  63, 276,\n",
       "        389, 298, 180, 406, 429, 443, 395, 415, 415, 372, 373, 159, 262,\n",
       "        311, 312, 362, 431, 171, 393, 136, 309, 339, 426,  95, 166, 299,\n",
       "        143, 445, 477, 478, 260, 294,   3,  13,  29, 456, 240, 225, 360,\n",
       "        466, 128, 135, 164, 187, 223, 317, 440,  29, 175, 190, 278, 423,\n",
       "         28, 128, 134, 164, 223, 440, 114, 115, 257, 382, 207, 415, 147,\n",
       "        148, 418, 260, 414, 473, 462, 473, 474, 139, 172, 425,  93]))"
      ]
     },
     "execution_count": 86,
     "metadata": {},
     "output_type": "execute_result"
    }
   ],
   "source": [
    "la"
   ]
  },
  {
   "cell_type": "code",
   "execution_count": 89,
   "id": "2bf30c2c",
   "metadata": {},
   "outputs": [],
   "source": [
    "x=list(test1)[3]\n",
    "y=list(test2)[452]"
   ]
  },
  {
   "cell_type": "code",
   "execution_count": 90,
   "id": "d5c2485a",
   "metadata": {
    "scrolled": true
   },
   "outputs": [
    {
     "name": "stdout",
     "output_type": "stream",
     "text": [
      "GGGATCACCA\n",
      "GGCTTCACCA\n"
     ]
    }
   ],
   "source": [
    "print(x)\n",
    "print(y)"
   ]
  },
  {
   "cell_type": "code",
   "execution_count": null,
   "id": "18f36816",
   "metadata": {},
   "outputs": [],
   "source": []
  }
 ],
 "metadata": {
  "kernelspec": {
   "display_name": "Python 3 (ipykernel)",
   "language": "python",
   "name": "python3"
  },
  "language_info": {
   "codemirror_mode": {
    "name": "ipython",
    "version": 3
   },
   "file_extension": ".py",
   "mimetype": "text/x-python",
   "name": "python",
   "nbconvert_exporter": "python",
   "pygments_lexer": "ipython3",
   "version": "3.10.4"
  }
 },
 "nbformat": 4,
 "nbformat_minor": 5
}
